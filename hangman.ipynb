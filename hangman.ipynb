{
 "cells": [
  {
   "cell_type": "markdown",
   "metadata": {},
   "source": []
  },
  {
   "cell_type": "code",
   "execution_count": 4,
   "metadata": {},
   "outputs": [],
   "source": [
    "import random\n",
    "from words import words_list\n",
    "\n",
    "# Random selection of valid word from words_list's dataset\n",
    "def get_valid_word(words_list):\n",
    "    random_word = random.choice(words_list) #Randomly chooses something from the list\n",
    "    \n",
    "    #if the word contains spaces or \"-\", keep searching for another word.\n",
    "    while '-' in random_word or ' ' in random_word:\n",
    "        random_word = random.choice(words_list)\n",
    "    return random_word.upper()\n",
    "print(random_word)\n",
    "\n",
    "\n"
   ]
  },
  {
   "cell_type": "code",
   "execution_count": null,
   "metadata": {},
   "outputs": [],
   "source": []
  }
 ],
 "metadata": {
  "kernelspec": {
   "display_name": "Python 3",
   "language": "python",
   "name": "python3"
  },
  "language_info": {
   "codemirror_mode": {
    "name": "ipython",
    "version": 3
   },
   "file_extension": ".py",
   "mimetype": "text/x-python",
   "name": "python",
   "nbconvert_exporter": "python",
   "pygments_lexer": "ipython3",
   "version": "3.11.1"
  },
  "orig_nbformat": 4
 },
 "nbformat": 4,
 "nbformat_minor": 2
}
